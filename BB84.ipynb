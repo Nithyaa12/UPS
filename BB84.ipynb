{
 "cells": [
  {
   "cell_type": "code",
   "execution_count": 21,
   "metadata": {},
   "outputs": [
    {
     "data": {
      "text/plain": [
       "{'qiskit-terra': '0.15.2',\n",
       " 'qiskit-aer': '0.6.1',\n",
       " 'qiskit-ignis': '0.4.0',\n",
       " 'qiskit-ibmq-provider': '0.9.0',\n",
       " 'qiskit-aqua': '0.7.5',\n",
       " 'qiskit': '0.21.0'}"
      ]
     },
     "execution_count": 21,
     "metadata": {},
     "output_type": "execute_result"
    }
   ],
   "source": [
    "import qiskit\n",
    "qiskit.__qiskit_version__"
   ]
  },
  {
   "cell_type": "code",
   "execution_count": 22,
   "metadata": {},
   "outputs": [],
   "source": [
    "# Import numpy for random number generation\n",
    "import numpy as np\n",
    "\n",
    "# importing Qiskit\n",
    "from qiskit import QuantumCircuit, ClassicalRegister, QuantumRegister, execute, BasicAer\n",
    "\n",
    "# Import basic plotting tools\n",
    "from qiskit.tools.visualization import plot_histogram"
   ]
  },
  {
   "cell_type": "code",
   "execution_count": 23,
   "metadata": {},
   "outputs": [],
   "source": [
    "# Creating registers with n qubits\n",
    "n = 16  # for a local backend n can go as up as 23, after that it raises a Memory Error\n",
    "qr = QuantumRegister(n, name='qr')\n",
    "cr = ClassicalRegister(n, name='cr')"
   ]
  },
  {
   "cell_type": "code",
   "execution_count": 24,
   "metadata": {},
   "outputs": [],
   "source": [
    "# Quantum circuit for alice state\n",
    "alice = QuantumCircuit(qr, cr, name='Alice')\n",
    "\n",
    "# Generate a random number in the range of available qubits [0,65536))\n",
    "alice_key = np.random.randint(0, high=2**n)\n",
    "\n",
    "# Cast key to binary for encoding\n",
    "# range: key[0]-key[15] with key[15] least significant figure\n",
    "alice_key = np.binary_repr(alice_key, n) # n is the width"
   ]
  },
  {
   "cell_type": "code",
   "execution_count": 25,
   "metadata": {},
   "outputs": [],
   "source": [
    "# Encode key as alice qubits \n",
    "for index, digit in enumerate(alice_key):\n",
    "    if digit == '1':\n",
    "        alice.x(qr[index]) # if key has a '1', change state to |1>\n",
    "        \n",
    "# Switch randomly about half qubits to diagonal basis\n",
    "alice_table = []        # Create empty basis table\n",
    "for index in range(len(qr)):       # BUG: enumerate(q) raises an out of range error\n",
    "    if 0.5 < np.random.random():   # With 50% chance...\n",
    "        alice.h(qr[index])         # ...change to diagonal basis\n",
    "        alice_table.append('X')    # character for diagonal basis\n",
    "    else:\n",
    "        alice_table.append('Z')    # character for computational basis"
   ]
  },
  {
   "cell_type": "code",
   "execution_count": 26,
   "metadata": {},
   "outputs": [],
   "source": [
    "# get_qasm method needs the str label\n",
    "# alternatively we can use circuits[0] but since dicts are not ordered\n",
    "# it is not a good idea to put them in a func\n",
    "# circuits = list(qp.get_circuit_names())\n",
    "\n",
    "def SendState(qc1, qc2, qc1_name):\n",
    "    ''' This function takes the output of a circuit qc1 (made up only of x and \n",
    "        h gates and initializes another circuit qc2 with the same state\n",
    "    ''' \n",
    "    \n",
    "    # Quantum state is retrieved from qasm code of qc1\n",
    "    qs = qc1.qasm().split(sep=';')[4:-1]\n",
    "\n",
    "    # Process the code to get the instructions\n",
    "    for index, instruction in enumerate(qs):\n",
    "        qs[index] = instruction.lstrip()\n",
    "\n",
    "    # Parse the instructions and apply to new circuit\n",
    "    for instruction in qs:\n",
    "        if instruction[0] == 'x':\n",
    "            old_qr = int(instruction[5:-1])\n",
    "            qc2.x(qr[old_qr])\n",
    "        elif instruction[0] == 'h':\n",
    "            old_qr = int(instruction[5:-1])\n",
    "            qc2.h(qr[old_qr])\n",
    "        elif instruction[0] == 'm': # exclude measuring:\n",
    "            pass\n",
    "        else:\n",
    "            raise Exception('Unable to parse instruction')"
   ]
  },
  {
   "cell_type": "code",
   "execution_count": 27,
   "metadata": {},
   "outputs": [],
   "source": [
    "bob = QuantumCircuit(qr, cr, name='Bob')\n",
    "\n",
    "SendState(alice, bob, 'Alice')    \n",
    "\n",
    "# Bob doesn't know which basis to use\n",
    "bob_table = []\n",
    "for index in range(len(qr)): \n",
    "    if 0.5 < np.random.random():  # With 50% chance...\n",
    "        bob.h(qr[index])        # ...change to diagonal basis\n",
    "        bob_table.append('X')\n",
    "    else:\n",
    "        bob_table.append('Z')\n"
   ]
  },
  {
   "cell_type": "code",
   "execution_count": 28,
   "metadata": {},
   "outputs": [
    {
     "data": {
      "image/png": "[encoded data removed]",
      "text/plain": [
       "<Figure size 504x360 with 1 Axes>"
      ]
     },
     "execution_count": 28,
     "metadata": {},
     "output_type": "execute_result"
    }
   ],
   "source": [
    "\n",
    "# Measure all qubits\n",
    "for index in range(len(qr)): \n",
    "    bob.measure(qr[index], cr[index])\n",
    "    \n",
    "# Execute the quantum circuit \n",
    "backend = BasicAer.get_backend('qasm_simulator')    \n",
    "result = execute(bob, backend=backend, shots=1).result()\n",
    "plot_histogram(result.get_counts(bob))"
   ]
  },
  {
   "cell_type": "code",
   "execution_count": 29,
   "metadata": {},
   "outputs": [],
   "source": [
    "# Result of the measure is Bob's key candidate\n",
    "bob_key = list(result.get_counts(bob))[0]\n",
    "bob_key = bob_key[::-1]      # key is reversed so that first qubit is the first element of the list"
   ]
  },
  {
   "cell_type": "code",
   "execution_count": 30,
   "metadata": {},
   "outputs": [
    {
     "name": "stdout",
     "output_type": "stream",
     "text": [
      "Different choice for qubit: 0, Alice has Z, Bob has X\n",
      "Same choice for qubit: 1, basis: Z\n",
      "Same choice for qubit: 2, basis: X\n",
      "Different choice for qubit: 3, Alice has Z, Bob has X\n",
      "Same choice for qubit: 4, basis: Z\n",
      "Same choice for qubit: 5, basis: Z\n",
      "Different choice for qubit: 6, Alice has X, Bob has Z\n",
      "Different choice for qubit: 7, Alice has X, Bob has Z\n",
      "Different choice for qubit: 8, Alice has X, Bob has Z\n",
      "Different choice for qubit: 9, Alice has Z, Bob has X\n",
      "Same choice for qubit: 10, basis: Z\n",
      "Different choice for qubit: 11, Alice has Z, Bob has X\n",
      "Same choice for qubit: 12, basis: Z\n",
      "Different choice for qubit: 13, Alice has Z, Bob has X\n",
      "Same choice for qubit: 14, basis: X\n",
      "Same choice for qubit: 15, basis: Z\n"
     ]
    }
   ],
   "source": [
    "keep = []\n",
    "discard = []\n",
    "for qubit, basis in enumerate(zip(alice_table, bob_table)):\n",
    "    if basis[0] == basis[1]:\n",
    "        print(\"Same choice for qubit: {}, basis: {}\" .format(qubit, basis[0])) \n",
    "        keep.append(qubit)\n",
    "    else:\n",
    "        print(\"Different choice for qubit: {}, Alice has {}, Bob has {}\" .format(qubit, basis[0], basis[1]))\n",
    "        discard.append(qubit)"
   ]
  },
  {
   "cell_type": "code",
   "execution_count": 31,
   "metadata": {},
   "outputs": [
    {
     "name": "stdout",
     "output_type": "stream",
     "text": [
      "Percentage of qubits to be discarded according to table comparison:  0.5\n",
      "Measurement convergence by additional chance:  0.8125\n"
     ]
    }
   ],
   "source": [
    "\n",
    "acc = 0\n",
    "for bit in zip(alice_key, bob_key):\n",
    "    if bit[0] == bit[1]:\n",
    "        acc += 1\n",
    "\n",
    "print('Percentage of qubits to be discarded according to table comparison: ', len(keep)/n)\n",
    "print('Measurement convergence by additional chance: ', acc/n)"
   ]
  },
  {
   "cell_type": "code",
   "execution_count": 32,
   "metadata": {},
   "outputs": [
    {
     "name": "stdout",
     "output_type": "stream",
     "text": [
      "Percentage of similarity between the keys:  1.0\n"
     ]
    }
   ],
   "source": [
    "new_alice_key = [alice_key[qubit] for qubit in keep]\n",
    "new_bob_key = [bob_key[qubit] for qubit in keep]\n",
    "\n",
    "acc = 0\n",
    "for bit in zip(new_alice_key, new_bob_key):\n",
    "    if bit[0] == bit[1]:\n",
    "        acc += 1        \n",
    "        \n",
    "print('Percentage of similarity between the keys: ', acc/len(new_alice_key))"
   ]
  },
  {
   "cell_type": "code",
   "execution_count": 33,
   "metadata": {},
   "outputs": [
    {
     "name": "stdout",
     "output_type": "stream",
     "text": [
      "Key exchange has been successfull\n",
      "New Alice's key:  ['0', '1', '1', '0', '0', '1', '1', '0']\n",
      "New Bob's key:  ['0', '1', '1', '0', '0', '1', '1', '0']\n"
     ]
    }
   ],
   "source": [
    "\n",
    "if (acc//len(new_alice_key) == 1):\n",
    "    print(\"Key exchange has been successfull\")\n",
    "    print(\"New Alice's key: \", new_alice_key)\n",
    "    print(\"New Bob's key: \", new_bob_key)\n",
    "else:\n",
    "    print(\"Key exchange has been tampered! Check for eavesdropper or try again\")\n",
    "    print(\"New Alice's key is invalid: \", new_alice_key)\n",
    "    print(\"New Bob's key is invalid: \", new_bob_key)"
   ]
  },
  {
   "cell_type": "code",
   "execution_count": 34,
   "metadata": {},
   "outputs": [],
   "source": [
    "\n",
    "eve = QuantumCircuit(qr, cr, name='Eve')\n",
    "SendState(alice, eve, 'Alice')\n"
   ]
  },
  {
   "cell_type": "code",
   "execution_count": 35,
   "metadata": {},
   "outputs": [],
   "source": [
    "eve_table = []\n",
    "for index in range(len(qr)): \n",
    "    if 0.5 < np.random.random(): \n",
    "        eve.h(qr[index])        \n",
    "        eve_table.append('X')\n",
    "    else:\n",
    "        eve_table.append('Z')"
   ]
  },
  {
   "cell_type": "code",
   "execution_count": 36,
   "metadata": {},
   "outputs": [],
   "source": [
    "for index in range(len(qr)): \n",
    "    eve.measure(qr[index], cr[index])\n",
    "    \n",
    "# Execute (build and run) the quantum circuit \n",
    "backend = BasicAer.get_backend('qasm_simulator')    \n",
    "result = execute(eve, backend=backend, shots=1).result()\n",
    "\n",
    "# Result of the measure is Eve's key\n",
    "eve_key = list(result.get_counts(eve))[0]\n",
    "eve_key = eve_key[::-1]"
   ]
  },
  {
   "cell_type": "code",
   "execution_count": 37,
   "metadata": {},
   "outputs": [
    {
     "name": "stdout",
     "output_type": "stream",
     "text": [
      "Same choice for qubit: 0, basis: Z\n",
      "Same choice for qubit: 1, basis: Z\n",
      "Same choice for qubit: 2, basis: X\n",
      "Same choice for qubit: 3, basis: Z\n",
      "Different choice for qubit: 4, Alice has Z, Eve has X\n",
      "Same choice for qubit: 5, basis: Z\n",
      "Same choice for qubit: 6, basis: X\n",
      "Different choice for qubit: 7, Alice has X, Eve has Z\n",
      "Different choice for qubit: 8, Alice has X, Eve has Z\n",
      "Different choice for qubit: 9, Alice has Z, Eve has X\n",
      "Different choice for qubit: 10, Alice has Z, Eve has X\n",
      "Different choice for qubit: 11, Alice has Z, Eve has X\n",
      "Same choice for qubit: 12, basis: Z\n",
      "Same choice for qubit: 13, basis: Z\n",
      "Different choice for qubit: 14, Alice has X, Eve has Z\n",
      "Different choice for qubit: 15, Alice has Z, Eve has X\n"
     ]
    }
   ],
   "source": [
    "\n",
    "# Update states to new eigenstates (of wrongly chosen basis)\n",
    "for qubit, basis in enumerate(zip(alice_table, eve_table)):\n",
    "    if basis[0] == basis[1]:\n",
    "        print(\"Same choice for qubit: {}, basis: {}\" .format(qubit, basis[0]))\n",
    "    else:\n",
    "        print(\"Different choice for qubit: {}, Alice has {}, Eve has {}\" .format(qubit, basis[0], basis[1]))\n",
    "        if eve_key[qubit] == alice_key[qubit]:\n",
    "            eve.h(qr[qubit])\n",
    "        else:\n",
    "            if basis[0] == 'X' and basis[1] == 'Z':\n",
    "                eve.h(qr[qubit])\n",
    "                eve.x(qr[qubit])\n",
    "            else:\n",
    "                eve.x(qr[qubit])\n",
    "                eve.h(qr[qubit])"
   ]
  },
  {
   "cell_type": "code",
   "execution_count": 38,
   "metadata": {},
   "outputs": [
    {
     "data": {
      "image/png": "[encoded data removed]",
      "text/plain": [
       "<Figure size 504x360 with 1 Axes>"
      ]
     },
     "execution_count": 38,
     "metadata": {},
     "output_type": "execute_result"
    }
   ],
   "source": [
    "SendState(eve, bob, 'Eve')\n",
    "          \n",
    "bob_table = []\n",
    "for index in range(len(qr)): \n",
    "    if 0.5 < np.random.random(): \n",
    "        bob.h(qr[index])      \n",
    "        bob_table.append('X')\n",
    "    else:\n",
    "        bob_table.append('Z')\n",
    "          \n",
    "for index in range(len(qr)): \n",
    "    bob.measure(qr[index], cr[index])\n",
    "          \n",
    "result = execute(bob, backend=backend, shots=1).result()\n",
    "plot_histogram(result.get_counts(bob))"
   ]
  },
  {
   "cell_type": "code",
   "execution_count": 39,
   "metadata": {},
   "outputs": [
    {
     "name": "stdout",
     "output_type": "stream",
     "text": [
      "Different choice for qubit: 0, Alice has Z, Bob has X\n",
      "Same choice for qubit: 1, basis: Z\n",
      "Same choice for qubit: 2, basis: X\n",
      "Different choice for qubit: 3, Alice has Z, Bob has X\n",
      "Different choice for qubit: 4, Alice has Z, Bob has X\n",
      "Same choice for qubit: 5, basis: Z\n",
      "Same choice for qubit: 6, basis: X\n",
      "Different choice for qubit: 7, Alice has X, Bob has Z\n",
      "Same choice for qubit: 8, basis: X\n",
      "Different choice for qubit: 9, Alice has Z, Bob has X\n",
      "Different choice for qubit: 10, Alice has Z, Bob has X\n",
      "Same choice for qubit: 11, basis: Z\n",
      "Same choice for qubit: 12, basis: Z\n",
      "Same choice for qubit: 13, basis: Z\n",
      "Different choice for qubit: 14, Alice has X, Bob has Z\n",
      "Same choice for qubit: 15, basis: Z\n",
      "\n",
      "Percentage of qubits to be discarded according to table comparison:  0.5625\n",
      "Measurement convergence by additional chance:  0.8125\n",
      "\n",
      "Percentage of similarity between the keys:  0.8888888888888888\n",
      "\n",
      "Key exchange has been tampered! Check for eavesdropper or try again\n",
      "New Alice's key is invalid:  ['0', '1', '0', '1', '0', '0', '1', '0', '0']\n",
      "New Bob's key is invalid:  ['0', '1', '0', '1', '0', '0', '1', '1', '0']\n"
     ]
    }
   ],
   "source": [
    "\n",
    "keep = []\n",
    "discard = []\n",
    "for qubit, basis in enumerate(zip(alice_table, bob_table)):\n",
    "    if basis[0] == basis[1]:\n",
    "        print(\"Same choice for qubit: {}, basis: {}\" .format(qubit, basis[0])) \n",
    "        keep.append(qubit)\n",
    "    else:\n",
    "        print(\"Different choice for qubit: {}, Alice has {}, Bob has {}\" .format(qubit, basis[0], basis[1]))\n",
    "        discard.append(qubit)\n",
    "        \n",
    "acc = 0\n",
    "for bit in zip(alice_key, bob_key):\n",
    "    if bit[0] == bit[1]:\n",
    "        acc += 1\n",
    "\n",
    "print('\\nPercentage of qubits to be discarded according to table comparison: ', len(keep)/n)\n",
    "print('Measurement convergence by additional chance: ', acc/n)  \n",
    "\n",
    "new_alice_key = [alice_key[qubit] for qubit in keep]\n",
    "new_bob_key = [bob_key[qubit] for qubit in keep]\n",
    "\n",
    "acc = 0\n",
    "for bit in zip(new_alice_key, new_bob_key):\n",
    "    if bit[0] == bit[1]:\n",
    "        acc += 1        \n",
    "        \n",
    "print('\\nPercentage of similarity between the keys: ', acc/len(new_alice_key)) \n",
    "\n",
    "if (acc//len(new_alice_key) == 1):\n",
    "    print(\"\\nKey exchange has been successfull\")\n",
    "    print(\"New Alice's key: \", new_alice_key)\n",
    "    print(\"New Bob's key: \", new_bob_key)\n",
    "else:\n",
    "    print(\"\\nKey exchange has been tampered! Check for eavesdropper or try again\")\n",
    "    print(\"New Alice's key is invalid: \", new_alice_key)\n",
    "    print(\"New Bob's key is invalid: \", new_bob_key)"
   ]
  }
 ],
 "metadata": {
  "kernelspec": {
   "display_name": "Python 3",
   "language": "python",
   "name": "python3"
  },
  "language_info": {
   "codemirror_mode": {
    "name": "ipython",
    "version": 3
   },
   "file_extension": ".py",
   "mimetype": "text/x-python",
   "name": "python",
   "nbconvert_exporter": "python",
   "pygments_lexer": "ipython3",
   "version": "3.8.3"
  }
 },
 "nbformat": 4,
 "nbformat_minor": 4
}
