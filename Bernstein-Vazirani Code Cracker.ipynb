{
 "cells": [
  {
   "cell_type": "code",
   "execution_count": 1,
   "metadata": {},
   "outputs": [
    {
     "name": "stdout",
     "output_type": "stream",
     "text": [
      "Requirement already satisfied: qiskit in c:\\users\\acer\\anaconda3\\lib\\site-packages (0.21.0)\n",
      "Requirement already satisfied: qiskit-terra==0.15.2 in c:\\users\\acer\\anaconda3\\lib\\site-packages (from qiskit) (0.15.2)\n",
      "Requirement already satisfied: qiskit-ibmq-provider==0.9.0 in c:\\users\\acer\\anaconda3\\lib\\site-packages (from qiskit) (0.9.0)\n",
      "Requirement already satisfied: qiskit-ignis==0.4.0 in c:\\users\\acer\\anaconda3\\lib\\site-packages (from qiskit) (0.4.0)\n",
      "Requirement already satisfied: qiskit-aer==0.6.1 in c:\\users\\acer\\anaconda3\\lib\\site-packages (from qiskit) (0.6.1)\n",
      "Requirement already satisfied: qiskit-aqua==0.7.5 in c:\\users\\acer\\anaconda3\\lib\\site-packages (from qiskit) (0.7.5)\n",
      "Requirement already satisfied: ply>=3.10 in c:\\users\\acer\\anaconda3\\lib\\site-packages (from qiskit-terra==0.15.2->qiskit) (3.11)\n",
      "Requirement already satisfied: networkx>=2.2; python_version > \"3.5\" in c:\\users\\acer\\anaconda3\\lib\\site-packages (from qiskit-terra==0.15.2->qiskit) (2.4)\n",
      "Requirement already satisfied: scipy>=1.4 in c:\\users\\acer\\anaconda3\\lib\\site-packages (from qiskit-terra==0.15.2->qiskit) (1.5.0)\n",
      "Requirement already satisfied: retworkx>=0.4.0 in c:\\users\\acer\\anaconda3\\lib\\site-packages (from qiskit-terra==0.15.2->qiskit) (0.5.0)\n",
      "Requirement already satisfied: python-dateutil>=2.8.0 in c:\\users\\acer\\anaconda3\\lib\\site-packages (from qiskit-terra==0.15.2->qiskit) (2.8.1)\n",
      "Requirement already satisfied: python-constraint>=1.4 in c:\\users\\acer\\anaconda3\\lib\\site-packages (from qiskit-terra==0.15.2->qiskit) (1.4.0)\n",
      "Requirement already satisfied: dill>=0.3 in c:\\users\\acer\\anaconda3\\lib\\site-packages (from qiskit-terra==0.15.2->qiskit) (0.3.2)\n",
      "Requirement already satisfied: sympy>=1.3 in c:\\users\\acer\\anaconda3\\lib\\site-packages (from qiskit-terra==0.15.2->qiskit) (1.6.1)\n",
      "Requirement already satisfied: jsonschema>=2.6 in c:\\users\\acer\\anaconda3\\lib\\site-packages (from qiskit-terra==0.15.2->qiskit) (3.2.0)\n",
      "Requirement already satisfied: psutil>=5 in c:\\users\\acer\\anaconda3\\lib\\site-packages (from qiskit-terra==0.15.2->qiskit) (5.7.0)\n",
      "Requirement already satisfied: fastjsonschema>=2.10 in c:\\users\\acer\\anaconda3\\lib\\site-packages (from qiskit-terra==0.15.2->qiskit) (2.14.5)\n",
      "Requirement already satisfied: numpy>=1.17 in c:\\users\\acer\\anaconda3\\lib\\site-packages (from qiskit-terra==0.15.2->qiskit) (1.18.5)\n",
      "Requirement already satisfied: urllib3>=1.21.1 in c:\\users\\acer\\anaconda3\\lib\\site-packages (from qiskit-ibmq-provider==0.9.0->qiskit) (1.25.9)\n",
      "Requirement already satisfied: websockets>=8; python_version > \"3.6\" in c:\\users\\acer\\anaconda3\\lib\\site-packages (from qiskit-ibmq-provider==0.9.0->qiskit) (8.1)\n",
      "Requirement already satisfied: requests>=2.19 in c:\\users\\acer\\anaconda3\\lib\\site-packages (from qiskit-ibmq-provider==0.9.0->qiskit) (2.24.0)\n",
      "Requirement already satisfied: nest-asyncio!=1.1.0,>=1.0.0 in c:\\users\\acer\\anaconda3\\lib\\site-packages (from qiskit-ibmq-provider==0.9.0->qiskit) (1.4.0)\n",
      "Requirement already satisfied: requests-ntlm>=1.1.0 in c:\\users\\acer\\anaconda3\\lib\\site-packages (from qiskit-ibmq-provider==0.9.0->qiskit) (1.1.0)\n",
      "Requirement already satisfied: scikit-learn>=0.17 in c:\\users\\acer\\anaconda3\\lib\\site-packages (from qiskit-ignis==0.4.0->qiskit) (0.23.1)\n",
      "Requirement already satisfied: setuptools>=40.1.0 in c:\\users\\acer\\anaconda3\\lib\\site-packages (from qiskit-ignis==0.4.0->qiskit) (49.2.0.post20200714)\n",
      "Requirement already satisfied: cython>=0.27.1 in c:\\users\\acer\\anaconda3\\lib\\site-packages (from qiskit-aer==0.6.1->qiskit) (0.29.21)\n",
      "Requirement already satisfied: pybind11>=2.4 in c:\\users\\acer\\anaconda3\\lib\\site-packages (from qiskit-aer==0.6.1->qiskit) (2.5.0)\n",
      "Requirement already satisfied: fastdtw in c:\\users\\acer\\anaconda3\\lib\\site-packages (from qiskit-aqua==0.7.5->qiskit) (0.3.4)\n",
      "Requirement already satisfied: h5py in c:\\users\\acer\\anaconda3\\lib\\site-packages (from qiskit-aqua==0.7.5->qiskit) (2.10.0)\n",
      "Requirement already satisfied: docplex in c:\\users\\acer\\anaconda3\\lib\\site-packages (from qiskit-aqua==0.7.5->qiskit) (2.15.194)\n",
      "Requirement already satisfied: yfinance in c:\\users\\acer\\anaconda3\\lib\\site-packages (from qiskit-aqua==0.7.5->qiskit) (0.1.54)\n",
      "Requirement already satisfied: quandl in c:\\users\\acer\\anaconda3\\lib\\site-packages (from qiskit-aqua==0.7.5->qiskit) (3.5.2)\n",
      "Requirement already satisfied: dlx in c:\\users\\acer\\anaconda3\\lib\\site-packages (from qiskit-aqua==0.7.5->qiskit) (1.0.4)\n",
      "Requirement already satisfied: pandas in c:\\users\\acer\\anaconda3\\lib\\site-packages (from qiskit-aqua==0.7.5->qiskit) (1.0.5)\n",
      "Requirement already satisfied: decorator>=4.3.0 in c:\\users\\acer\\anaconda3\\lib\\site-packages (from networkx>=2.2; python_version > \"3.5\"->qiskit-terra==0.15.2->qiskit) (4.4.2)\n",
      "Requirement already satisfied: six>=1.5 in c:\\users\\acer\\anaconda3\\lib\\site-packages (from python-dateutil>=2.8.0->qiskit-terra==0.15.2->qiskit) (1.15.0)\n",
      "Requirement already satisfied: mpmath>=0.19 in c:\\users\\acer\\anaconda3\\lib\\site-packages (from sympy>=1.3->qiskit-terra==0.15.2->qiskit) (1.1.0)\n",
      "Requirement already satisfied: pyrsistent>=0.14.0 in c:\\users\\acer\\anaconda3\\lib\\site-packages (from jsonschema>=2.6->qiskit-terra==0.15.2->qiskit) (0.16.0)\n",
      "Requirement already satisfied: attrs>=17.4.0 in c:\\users\\acer\\anaconda3\\lib\\site-packages (from jsonschema>=2.6->qiskit-terra==0.15.2->qiskit) (19.3.0)\n",
      "Requirement already satisfied: chardet<4,>=3.0.2 in c:\\users\\acer\\anaconda3\\lib\\site-packages (from requests>=2.19->qiskit-ibmq-provider==0.9.0->qiskit) (3.0.4)\n",
      "Requirement already satisfied: idna<3,>=2.5 in c:\\users\\acer\\anaconda3\\lib\\site-packages (from requests>=2.19->qiskit-ibmq-provider==0.9.0->qiskit) (2.10)\n",
      "Requirement already satisfied: certifi>=2017.4.17 in c:\\users\\acer\\anaconda3\\lib\\site-packages (from requests>=2.19->qiskit-ibmq-provider==0.9.0->qiskit) (2020.6.20)\n",
      "Requirement already satisfied: cryptography>=1.3 in c:\\users\\acer\\anaconda3\\lib\\site-packages (from requests-ntlm>=1.1.0->qiskit-ibmq-provider==0.9.0->qiskit) (2.9.2)\n",
      "Requirement already satisfied: ntlm-auth>=1.0.2 in c:\\users\\acer\\anaconda3\\lib\\site-packages (from requests-ntlm>=1.1.0->qiskit-ibmq-provider==0.9.0->qiskit) (1.5.0)\n",
      "Requirement already satisfied: threadpoolctl>=2.0.0 in c:\\users\\acer\\anaconda3\\lib\\site-packages (from scikit-learn>=0.17->qiskit-ignis==0.4.0->qiskit) (2.1.0)\n",
      "Requirement already satisfied: joblib>=0.11 in c:\\users\\acer\\anaconda3\\lib\\site-packages (from scikit-learn>=0.17->qiskit-ignis==0.4.0->qiskit) (0.16.0)\n",
      "Requirement already satisfied: multitasking>=0.0.7 in c:\\users\\acer\\anaconda3\\lib\\site-packages (from yfinance->qiskit-aqua==0.7.5->qiskit) (0.0.9)\n",
      "Requirement already satisfied: more-itertools in c:\\users\\acer\\anaconda3\\lib\\site-packages (from quandl->qiskit-aqua==0.7.5->qiskit) (8.4.0)\n",
      "Requirement already satisfied: inflection>=0.3.1 in c:\\users\\acer\\anaconda3\\lib\\site-packages (from quandl->qiskit-aqua==0.7.5->qiskit) (0.5.1)\n",
      "Requirement already satisfied: pytz>=2017.2 in c:\\users\\acer\\anaconda3\\lib\\site-packages (from pandas->qiskit-aqua==0.7.5->qiskit) (2020.1)\n",
      "Requirement already satisfied: cffi!=1.11.3,>=1.8 in c:\\users\\acer\\anaconda3\\lib\\site-packages (from cryptography>=1.3->requests-ntlm>=1.1.0->qiskit-ibmq-provider==0.9.0->qiskit) (1.14.0)\n",
      "Requirement already satisfied: pycparser in c:\\users\\acer\\anaconda3\\lib\\site-packages (from cffi!=1.11.3,>=1.8->cryptography>=1.3->requests-ntlm>=1.1.0->qiskit-ibmq-provider==0.9.0->qiskit) (2.20)\n",
      "Note: you may need to restart the kernel to use updated packages.\n"
     ]
    }
   ],
   "source": [
    "pip install qiskit"
   ]
  },
  {
   "cell_type": "code",
   "execution_count": 2,
   "metadata": {
    "scrolled": false
   },
   "outputs": [
    {
     "name": "stdout",
     "output_type": "stream",
     "text": [
      "Requirement already satisfied: pylatexenc in c:\\users\\acer\\anaconda3\\lib\\site-packages (2.7)\n",
      "Note: you may need to restart the kernel to use updated packages.\n"
     ]
    }
   ],
   "source": [
    "pip install pylatexenc"
   ]
  },
  {
   "cell_type": "code",
   "execution_count": 7,
   "metadata": {},
   "outputs": [],
   "source": [
    "\n",
    "\n",
    "from qiskit import *\n",
    "%matplotlib inline\n",
    "from qiskit.tools.visualization import plot_histogram"
   ]
  },
  {
   "cell_type": "code",
   "execution_count": 8,
   "metadata": {},
   "outputs": [],
   "source": [
    "secretumber='101001'"
   ]
  },
  {
   "cell_type": "code",
   "execution_count": 9,
   "metadata": {},
   "outputs": [
    {
     "data": {
      "text/plain": [
       "<qiskit.circuit.instructionset.InstructionSet at 0x1d26f602b80>"
      ]
     },
     "execution_count": 9,
     "metadata": {},
     "output_type": "execute_result"
    }
   ],
   "source": [
    "circuit=QuantumCircuit(6+1,6)\n",
    "circuit.h([0,1,2,3,4,5])"
   ]
  },
  {
   "cell_type": "code",
   "execution_count": 11,
   "metadata": {},
   "outputs": [
    {
     "data": {
      "image/png": "[encoded data removed]",
      "text/plain": [
       "<Figure size 200.977x505.68 with 1 Axes>"
      ]
     },
     "execution_count": 11,
     "metadata": {},
     "output_type": "execute_result"
    }
   ],
   "source": [
    "circuit.draw(output='mpl')"
   ]
  },
  {
   "cell_type": "code",
   "execution_count": null,
   "metadata": {},
   "outputs": [],
   "source": []
  },
  {
   "cell_type": "code",
   "execution_count": null,
   "metadata": {},
   "outputs": [],
   "source": []
  }
 ],
 "metadata": {
  "kernelspec": {
   "display_name": "Python 3",
   "language": "python",
   "name": "python3"
  },
  "language_info": {
   "codemirror_mode": {
    "name": "ipython",
    "version": 3
   },
   "file_extension": ".py",
   "mimetype": "text/x-python",
   "name": "python",
   "nbconvert_exporter": "python",
   "pygments_lexer": "ipython3",
   "version": "3.8.3"
  }
 },
 "nbformat": 4,
 "nbformat_minor": 4
}
